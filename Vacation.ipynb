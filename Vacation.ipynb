{
 "cells": [
  {
   "cell_type": "code",
   "execution_count": 1,
   "source": [
    "# Dependencies and Setup\n",
    "import matplotlib.pyplot as plt\n",
    "import pandas as pd\n",
    "import numpy as np\n",
    "import requests\n",
    "import gmaps\n",
    "import os\n",
    "\n",
    "# Import API key\n",
    "from api_info import google_api_key"
   ],
   "outputs": [],
   "metadata": {}
  },
  {
   "cell_type": "code",
   "execution_count": 2,
   "source": [
    "# Put constructed Data set into a csv for part 2 analysis\n",
    "# Then drop unneeded column \n",
    "df = pd.read_csv('Extracted_Data.csv')\n",
    "df = df.drop(['Unnamed: 0'],axis = 1)\n",
    "df.head()"
   ],
   "outputs": [
    {
     "output_type": "execute_result",
     "data": {
      "text/plain": [
       "        City Name  Longitude  Latitude  Temperature  Humidity  Cloud Percent  \\\n",
       "0        La Ronge  -105.2842   55.1001        52.05        62             20   \n",
       "1   Alta Floresta   -56.0861   -9.8756        78.44        37             27   \n",
       "2        Uyutnoye    33.3014   45.1994        63.82        77             40   \n",
       "3  Port Elizabeth    25.5701  -33.9180        56.53        87              2   \n",
       "4          Hobart   147.3294  -42.8794        52.45        58             40   \n",
       "\n",
       "   Wind Speed (mph)  \n",
       "0              3.44  \n",
       "1              1.92  \n",
       "2              9.24  \n",
       "3              8.99  \n",
       "4              3.00  "
      ],
      "text/html": [
       "<div>\n",
       "<style scoped>\n",
       "    .dataframe tbody tr th:only-of-type {\n",
       "        vertical-align: middle;\n",
       "    }\n",
       "\n",
       "    .dataframe tbody tr th {\n",
       "        vertical-align: top;\n",
       "    }\n",
       "\n",
       "    .dataframe thead th {\n",
       "        text-align: right;\n",
       "    }\n",
       "</style>\n",
       "<table border=\"1\" class=\"dataframe\">\n",
       "  <thead>\n",
       "    <tr style=\"text-align: right;\">\n",
       "      <th></th>\n",
       "      <th>City Name</th>\n",
       "      <th>Longitude</th>\n",
       "      <th>Latitude</th>\n",
       "      <th>Temperature</th>\n",
       "      <th>Humidity</th>\n",
       "      <th>Cloud Percent</th>\n",
       "      <th>Wind Speed (mph)</th>\n",
       "    </tr>\n",
       "  </thead>\n",
       "  <tbody>\n",
       "    <tr>\n",
       "      <th>0</th>\n",
       "      <td>La Ronge</td>\n",
       "      <td>-105.2842</td>\n",
       "      <td>55.1001</td>\n",
       "      <td>52.05</td>\n",
       "      <td>62</td>\n",
       "      <td>20</td>\n",
       "      <td>3.44</td>\n",
       "    </tr>\n",
       "    <tr>\n",
       "      <th>1</th>\n",
       "      <td>Alta Floresta</td>\n",
       "      <td>-56.0861</td>\n",
       "      <td>-9.8756</td>\n",
       "      <td>78.44</td>\n",
       "      <td>37</td>\n",
       "      <td>27</td>\n",
       "      <td>1.92</td>\n",
       "    </tr>\n",
       "    <tr>\n",
       "      <th>2</th>\n",
       "      <td>Uyutnoye</td>\n",
       "      <td>33.3014</td>\n",
       "      <td>45.1994</td>\n",
       "      <td>63.82</td>\n",
       "      <td>77</td>\n",
       "      <td>40</td>\n",
       "      <td>9.24</td>\n",
       "    </tr>\n",
       "    <tr>\n",
       "      <th>3</th>\n",
       "      <td>Port Elizabeth</td>\n",
       "      <td>25.5701</td>\n",
       "      <td>-33.9180</td>\n",
       "      <td>56.53</td>\n",
       "      <td>87</td>\n",
       "      <td>2</td>\n",
       "      <td>8.99</td>\n",
       "    </tr>\n",
       "    <tr>\n",
       "      <th>4</th>\n",
       "      <td>Hobart</td>\n",
       "      <td>147.3294</td>\n",
       "      <td>-42.8794</td>\n",
       "      <td>52.45</td>\n",
       "      <td>58</td>\n",
       "      <td>40</td>\n",
       "      <td>3.00</td>\n",
       "    </tr>\n",
       "  </tbody>\n",
       "</table>\n",
       "</div>"
      ]
     },
     "metadata": {},
     "execution_count": 2
    }
   ],
   "metadata": {}
  },
  {
   "cell_type": "code",
   "execution_count": 3,
   "source": [
    "# configure gmaps\n",
    "gmaps.configure(api_key = google_api_key)\n",
    "\n",
    "# set max inensity, data points, and weights to be placed on heat map\n",
    "max_intensity = float(df['Humidity'].max())\n",
    "locations = df[['Latitude','Longitude']]\n",
    "weights = df['Humidity']\n",
    "\n",
    "# Construct figure that layers will be added to and create the heatmap\n",
    "fig = gmaps.figure()\n",
    "heatmap = gmaps.heatmap_layer(locations,weights = weights,dissipating = False , max_intensity = max_intensity, point_radius = 1)\n",
    "fig.add_layer(heatmap)\n",
    "fig"
   ],
   "outputs": [
    {
     "output_type": "display_data",
     "data": {
      "text/plain": [
       "Figure(layout=FigureLayout(height='420px'))"
      ],
      "application/vnd.jupyter.widget-view+json": {
       "version_major": 2,
       "version_minor": 0,
       "model_id": "aaeed81e93cb4da9ab38e4662515738f"
      }
     },
     "metadata": {}
    }
   ],
   "metadata": {}
  },
  {
   "cell_type": "code",
   "execution_count": 4,
   "source": [
    "# Construct the ideal conditions data frame\n",
    "# Extract latitude and longitude pairs to be used for API requests\n",
    "ideal_df = df[df['Temperature']<80][df['Temperature']>70][df['Wind Speed (mph)']<10][df['Cloud Percent'] == 0]\n",
    "las = ideal_df['Latitude']\n",
    "los = ideal_df['Longitude']\n",
    "locs = list(zip(las,los))"
   ],
   "outputs": [
    {
     "output_type": "stream",
     "name": "stderr",
     "text": [
      "/Users/borisrubel/opt/anaconda3/envs/venv/lib/python3.6/site-packages/ipykernel_launcher.py:1: UserWarning: Boolean Series key will be reindexed to match DataFrame index.\n",
      "  \"\"\"Entry point for launching an IPython kernel.\n"
     ]
    }
   ],
   "metadata": {}
  },
  {
   "cell_type": "code",
   "execution_count": 39,
   "source": [
    "#base urls needed for api requests\n",
    "base_url = \"https://maps.googleapis.com/maps/api/place/nearbysearch/json?\"\n",
    "base_url_id = \"https://maps.googleapis.com/maps/api/place/details/json?\"\n",
    "\n",
    "# Parameters for URl construction\n",
    "building = 'Hotel'\n",
    "radius = '5000'\n",
    "\n",
    "# Invalid index will be used to skip rows of cities not found in API calls when extracting the final data frame. \n",
    "# This is done to match all cities with extracted API data and keep them all at the size in order to construct the \n",
    "# hotel data frame \n",
    "\n",
    "hotel_data = []\n",
    "invalid_index = []\n",
    "x = 0\n",
    "\n",
    "# Get all hotel information \n",
    "for coords in locs:\n",
    "    url = base_url + f'location={coords[0]},{coords[1]}&radius={radius}&type={building}&key={google_api_key}'\n",
    "    hotel_info = requests.get(url).json()\n",
    "\n",
    "    try:\n",
    "        hotel_data.append(hotel_info['results'][1])\n",
    "    except:\n",
    "        print(f'Could not find hotel near coordinates {coords[0]},{coords[1]} and index {x}!')\n",
    "        invalid_index.append(x)\n",
    "    x = x + 1\n"
   ],
   "outputs": [
    {
     "output_type": "stream",
     "name": "stdout",
     "text": [
      "Could not find hotel near coordinates 30.3333,10.85 and index 7!\n"
     ]
    }
   ],
   "metadata": {}
  },
  {
   "cell_type": "code",
   "execution_count": 40,
   "source": [
    "# update cities by skipping any invalid cities\n",
    "valid_cities = [x for x in range(ideal_df.shape[0]) if x not in invalid_index]\n",
    "h_cities = ideal_df['City Name'].iloc[valid_cities]"
   ],
   "outputs": [],
   "metadata": {}
  },
  {
   "cell_type": "code",
   "execution_count": 41,
   "source": [
    "# First extract the country, longitude, latitude, and hotel name from Google Places API\n",
    "h_lats = []\n",
    "h_lons = []\n",
    "h_names = []\n",
    "h_countries = []\n",
    "\n",
    "b_url = 'https://maps.googleapis.com/maps/api/place/details/json?'\n",
    "x = 0\n",
    "for h in hotel_data:\n",
    "    \n",
    "    # use hotel's place ID to determine what country it is in\n",
    "    # this is later matched by index to the city when constructing final hotel dataframe\n",
    "    pid = h['place_id']\n",
    "    url = b_url + f'place_id={pid}&key={google_api_key}'\n",
    "    inf = requests.get(url).json()\n",
    "    try:\n",
    "        h_lats.append(h['geometry']['location']['lat'])\n",
    "        h_lons.append(h['geometry']['location']['lng'])\n",
    "        h_names.append(h['name'])\n",
    "        \n",
    "        # finds which entry of request contains the country name, then appends it to countries array\n",
    "        c = [x['long_name'] for x in inf['result']['address_components'] if x['types'][0] == 'country']\n",
    "        h_countries.append(c[0])\n",
    "    \n",
    "    except:\n",
    "        print('ID not Valid')\n",
    "\n",
    "# construct hotel dataframe\n",
    "hotel_df = pd.DataFrame({'Hotel Name':h_names,'City':h_cities,\n",
    "            'Country':h_countries,'Lat':h_lats,\"Lng\":h_lons})\n"
   ],
   "outputs": [],
   "metadata": {}
  },
  {
   "cell_type": "code",
   "execution_count": 36,
   "source": [
    "# Display final hotel dataframe that will be used to create markers on fig (initialized google map figure above)\n",
    "hotel_df"
   ],
   "outputs": [
    {
     "output_type": "execute_result",
     "data": {
      "text/plain": [
       "                               Hotel Name            City        Country  \\\n",
       "26                    Le gîte du Koniambo             Voh  New Caledonia   \n",
       "156          Korla No.2 Elementary School           Korla          China   \n",
       "205                           Jingu Hotel          Ürümqi          China   \n",
       "212                  خانه شطرنج گنبدکاووس  Gonbad-e Kāvūs           Iran   \n",
       "256                         Elysium Hotel       Chlórakas         Cyprus   \n",
       "279  بانک ملی ایران شعبه مرکزی ۱۴۴۸ داراب           Dārāb           Iran   \n",
       "292                     Mantra Nelson Bay      Nelson Bay      Australia   \n",
       "530                     Hôtel Cap Macabou      Le Vauclin     Martinique   \n",
       "553               Hotel Faro & Beach Club            Faro       Portugal   \n",
       "\n",
       "           Lat         Lng  \n",
       "26  -20.983312  164.722214  \n",
       "156  41.771057   86.161866  \n",
       "205  43.799718   87.609938  \n",
       "212  37.241860   55.182100  \n",
       "256  34.772965   32.405619  \n",
       "279  28.752062   54.545818  \n",
       "292 -32.723499  152.145401  \n",
       "530  14.512985  -60.825912  \n",
       "553  37.016432   -7.934978  "
      ],
      "text/html": [
       "<div>\n",
       "<style scoped>\n",
       "    .dataframe tbody tr th:only-of-type {\n",
       "        vertical-align: middle;\n",
       "    }\n",
       "\n",
       "    .dataframe tbody tr th {\n",
       "        vertical-align: top;\n",
       "    }\n",
       "\n",
       "    .dataframe thead th {\n",
       "        text-align: right;\n",
       "    }\n",
       "</style>\n",
       "<table border=\"1\" class=\"dataframe\">\n",
       "  <thead>\n",
       "    <tr style=\"text-align: right;\">\n",
       "      <th></th>\n",
       "      <th>Hotel Name</th>\n",
       "      <th>City</th>\n",
       "      <th>Country</th>\n",
       "      <th>Lat</th>\n",
       "      <th>Lng</th>\n",
       "    </tr>\n",
       "  </thead>\n",
       "  <tbody>\n",
       "    <tr>\n",
       "      <th>26</th>\n",
       "      <td>Le gîte du Koniambo</td>\n",
       "      <td>Voh</td>\n",
       "      <td>New Caledonia</td>\n",
       "      <td>-20.983312</td>\n",
       "      <td>164.722214</td>\n",
       "    </tr>\n",
       "    <tr>\n",
       "      <th>156</th>\n",
       "      <td>Korla No.2 Elementary School</td>\n",
       "      <td>Korla</td>\n",
       "      <td>China</td>\n",
       "      <td>41.771057</td>\n",
       "      <td>86.161866</td>\n",
       "    </tr>\n",
       "    <tr>\n",
       "      <th>205</th>\n",
       "      <td>Jingu Hotel</td>\n",
       "      <td>Ürümqi</td>\n",
       "      <td>China</td>\n",
       "      <td>43.799718</td>\n",
       "      <td>87.609938</td>\n",
       "    </tr>\n",
       "    <tr>\n",
       "      <th>212</th>\n",
       "      <td>خانه شطرنج گنبدکاووس</td>\n",
       "      <td>Gonbad-e Kāvūs</td>\n",
       "      <td>Iran</td>\n",
       "      <td>37.241860</td>\n",
       "      <td>55.182100</td>\n",
       "    </tr>\n",
       "    <tr>\n",
       "      <th>256</th>\n",
       "      <td>Elysium Hotel</td>\n",
       "      <td>Chlórakas</td>\n",
       "      <td>Cyprus</td>\n",
       "      <td>34.772965</td>\n",
       "      <td>32.405619</td>\n",
       "    </tr>\n",
       "    <tr>\n",
       "      <th>279</th>\n",
       "      <td>بانک ملی ایران شعبه مرکزی ۱۴۴۸ داراب</td>\n",
       "      <td>Dārāb</td>\n",
       "      <td>Iran</td>\n",
       "      <td>28.752062</td>\n",
       "      <td>54.545818</td>\n",
       "    </tr>\n",
       "    <tr>\n",
       "      <th>292</th>\n",
       "      <td>Mantra Nelson Bay</td>\n",
       "      <td>Nelson Bay</td>\n",
       "      <td>Australia</td>\n",
       "      <td>-32.723499</td>\n",
       "      <td>152.145401</td>\n",
       "    </tr>\n",
       "    <tr>\n",
       "      <th>530</th>\n",
       "      <td>Hôtel Cap Macabou</td>\n",
       "      <td>Le Vauclin</td>\n",
       "      <td>Martinique</td>\n",
       "      <td>14.512985</td>\n",
       "      <td>-60.825912</td>\n",
       "    </tr>\n",
       "    <tr>\n",
       "      <th>553</th>\n",
       "      <td>Hotel Faro &amp; Beach Club</td>\n",
       "      <td>Faro</td>\n",
       "      <td>Portugal</td>\n",
       "      <td>37.016432</td>\n",
       "      <td>-7.934978</td>\n",
       "    </tr>\n",
       "  </tbody>\n",
       "</table>\n",
       "</div>"
      ]
     },
     "metadata": {},
     "execution_count": 36
    }
   ],
   "metadata": {}
  },
  {
   "cell_type": "code",
   "execution_count": 37,
   "source": [
    "# Using the template add the hotel marks to the heatmap\n",
    "info_box_template = \"\"\"\n",
    "<dl>\n",
    "<dt>Name</dt><dd>{Hotel Name}</dd>\n",
    "<dt>City</dt><dd>{City}</dd>\n",
    "<dt>Country</dt><dd>{Country}</dd>\n",
    "</dl>\n",
    "\"\"\"\n",
    "# Store the DataFrame Row\n",
    "# NOTE: be sure to update with your DataFrame name\n",
    "hotel_info = [info_box_template.format(**row) for index, row in hotel_df.iterrows()]\n",
    "locations = hotel_df[[\"Lat\", \"Lng\"]]"
   ],
   "outputs": [],
   "metadata": {}
  },
  {
   "cell_type": "code",
   "execution_count": 38,
   "source": [
    "# Add markers to map\n",
    "markers = gmaps.marker_layer(locations,info_box_content = hotel_info)\n",
    "fig.add_layer(markers)\n",
    "fig"
   ],
   "outputs": [
    {
     "output_type": "display_data",
     "data": {
      "text/plain": [
       "Figure(layout=FigureLayout(height='420px'))"
      ],
      "application/vnd.jupyter.widget-view+json": {
       "version_major": 2,
       "version_minor": 0,
       "model_id": "aaeed81e93cb4da9ab38e4662515738f"
      }
     },
     "metadata": {}
    }
   ],
   "metadata": {}
  }
 ],
 "metadata": {
  "orig_nbformat": 4,
  "language_info": {
   "name": "python",
   "version": "3.6.10",
   "mimetype": "text/x-python",
   "codemirror_mode": {
    "name": "ipython",
    "version": 3
   },
   "pygments_lexer": "ipython3",
   "nbconvert_exporter": "python",
   "file_extension": ".py"
  },
  "kernelspec": {
   "name": "python3",
   "display_name": "Python 3.6.10 64-bit ('venv': conda)"
  },
  "interpreter": {
   "hash": "3f6acd4545d008d74b1bc56e0920897854c77ecf9e874c3b3700a6e370b33431"
  }
 },
 "nbformat": 4,
 "nbformat_minor": 2
}